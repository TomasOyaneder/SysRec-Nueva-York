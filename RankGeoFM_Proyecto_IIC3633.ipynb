{
  "nbformat": 4,
  "nbformat_minor": 0,
  "metadata": {
    "colab": {
      "provenance": []
    },
    "kernelspec": {
      "name": "python3",
      "display_name": "Python 3"
    },
    "language_info": {
      "name": "python"
    }
  },
  "cells": [
    {
      "cell_type": "markdown",
      "source": [
        "# RankGeoFM"
      ],
      "metadata": {
        "id": "ZzYWjrRAFgup"
      }
    },
    {
      "cell_type": "code",
      "execution_count": 2,
      "metadata": {
        "colab": {
          "base_uri": "https://localhost:8080/"
        },
        "id": "x1TqPYA8-_7C",
        "outputId": "658adab9-9f7d-4acb-8473-7e5d96141d5d"
      },
      "outputs": [
        {
          "output_type": "stream",
          "name": "stdout",
          "text": [
            "Collecting fastFM\n",
            "  Downloading fastFM-0.2.10.tar.gz (1.6 MB)\n",
            "\u001b[2K     \u001b[90m━━━━━━━━━━━━━━━━━━━━━━━━━━━━━━━━━━━━━━━━\u001b[0m \u001b[32m1.6/1.6 MB\u001b[0m \u001b[31m2.0 MB/s\u001b[0m eta \u001b[36m0:00:00\u001b[0m\n",
            "\u001b[?25h  Preparing metadata (setup.py) ... \u001b[?25l\u001b[?25hdone\n",
            "Requirement already satisfied: numpy in /usr/local/lib/python3.10/dist-packages (from fastFM) (1.25.2)\n",
            "Requirement already satisfied: scikit-learn in /usr/local/lib/python3.10/dist-packages (from fastFM) (1.2.2)\n",
            "Requirement already satisfied: scipy in /usr/local/lib/python3.10/dist-packages (from fastFM) (1.11.4)\n",
            "Requirement already satisfied: cython in /usr/local/lib/python3.10/dist-packages (from fastFM) (3.0.10)\n",
            "Requirement already satisfied: joblib>=1.1.1 in /usr/local/lib/python3.10/dist-packages (from scikit-learn->fastFM) (1.4.2)\n",
            "Requirement already satisfied: threadpoolctl>=2.0.0 in /usr/local/lib/python3.10/dist-packages (from scikit-learn->fastFM) (3.5.0)\n",
            "Building wheels for collected packages: fastFM\n",
            "  Building wheel for fastFM (setup.py) ... \u001b[?25l\u001b[?25hdone\n",
            "  Created wheel for fastFM: filename=fastFM-0.2.10-cp310-cp310-linux_x86_64.whl size=591644 sha256=49cf401b9132d38748fe30f7f5024ac420ec555217c44f81ad9929dfe93fed36\n",
            "  Stored in directory: /root/.cache/pip/wheels/93/92/52/2da7997fcb7a7ce9042ff3b33836ef0c2fd47aa95382d7a113\n",
            "Successfully built fastFM\n",
            "Installing collected packages: fastFM\n",
            "Successfully installed fastFM-0.2.10\n"
          ]
        }
      ],
      "source": [
        "!pip3 install fastFM"
      ]
    },
    {
      "cell_type": "code",
      "source": [
        "import numpy as np\n",
        "import pandas as pd\n",
        "import fastFM\n",
        "from fastFM.datasets import make_user_item_regression\n",
        "from sklearn.model_selection import train_test_split\n",
        "from fastFM import sgd\n",
        "from fastFM import als\n",
        "from sklearn.metrics import mean_squared_error\n",
        "import matplotlib.pyplot as plt\n",
        "from scipy.sparse import csc_matrix\n",
        "from fastFM import mcmc\n",
        "import functools as fct\n",
        "import itertools as itools\n",
        "import random, scipy\n",
        "\n",
        "from sklearn.preprocessing import StandardScaler, MinMaxScaler"
      ],
      "metadata": {
        "id": "Wae_mbjo_C22"
      },
      "execution_count": 3,
      "outputs": []
    },
    {
      "cell_type": "code",
      "source": [
        "from google.colab import drive\n",
        "drive.mount('/content/drive')"
      ],
      "metadata": {
        "colab": {
          "base_uri": "https://localhost:8080/"
        },
        "id": "HM3-HjvW_PpS",
        "outputId": "e33aef97-0b8e-4ccc-834f-c04c7792b614"
      },
      "execution_count": 4,
      "outputs": [
        {
          "output_type": "stream",
          "name": "stdout",
          "text": [
            "Drive already mounted at /content/drive; to attempt to forcibly remount, call drive.mount(\"/content/drive\", force_remount=True).\n"
          ]
        }
      ]
    },
    {
      "cell_type": "code",
      "source": [
        "metadata = pd.read_feather('/content/drive/MyDrive/proyecto_rec_sys_IIC3633/metadata.feather')\n",
        "reviews = pd.read_feather('/content/drive/MyDrive/proyecto_rec_sys_IIC3633/reviews.feather')"
      ],
      "metadata": {
        "id": "UxrkV7ef_qJO"
      },
      "execution_count": 5,
      "outputs": []
    },
    {
      "cell_type": "code",
      "source": [
        "def bayesian_rating(row, C, m):\n",
        "    R = row['avg_rating']\n",
        "    v = row['num_of_reviews']\n",
        "    return (v / (v + m)) * R + (m / (v + m)) * C"
      ],
      "metadata": {
        "id": "MkuhcE8SAcpI"
      },
      "execution_count": 6,
      "outputs": []
    },
    {
      "cell_type": "code",
      "source": [
        "C = metadata['avg_rating'].mean()\n",
        "m = metadata['num_of_reviews'].quantile(0.5) # Valor umbral, mediana de las reviews\n",
        "\n",
        "metadata['rating_bayesiano'] = metadata.apply(bayesian_rating, C=C, m=m, axis=1)"
      ],
      "metadata": {
        "id": "C50Yr1MEAgJL"
      },
      "execution_count": 7,
      "outputs": []
    },
    {
      "cell_type": "code",
      "source": [
        "np.random.seed(112)\n",
        "users = reviews['user_id'].unique()\n",
        "samp_users = np.random.choice(users, size=10000, replace=False)\n",
        "samp = reviews[reviews['user_id'].isin(samp_users)]"
      ],
      "metadata": {
        "id": "YDRqPbvQAifw"
      },
      "execution_count": 8,
      "outputs": []
    },
    {
      "cell_type": "code",
      "source": [
        "import geopandas as gpd\n",
        "\n",
        "shapefile_url = \"https://data.cityofnewyork.us/api/geospatial/7t3b-ywvw?method=export&format=Shapefile\"\n",
        "\n",
        "boroughs = gpd.read_file(shapefile_url)"
      ],
      "metadata": {
        "id": "NC8s8ja8Ak03"
      },
      "execution_count": 9,
      "outputs": []
    },
    {
      "cell_type": "code",
      "source": [
        "ids = samp['gmap_id'].unique()"
      ],
      "metadata": {
        "id": "ZPH9rtEkA2JS"
      },
      "execution_count": 10,
      "outputs": []
    },
    {
      "cell_type": "code",
      "source": [
        "samp_rest = metadata[metadata['gmap_id'].isin(ids)]"
      ],
      "metadata": {
        "id": "nZ2y1WvtA46R"
      },
      "execution_count": 11,
      "outputs": []
    },
    {
      "cell_type": "code",
      "source": [
        "samp_rest.loc[:, ['category']] = samp_rest['category'].apply(lambda x: ', '.join(x))"
      ],
      "metadata": {
        "id": "4fRF4IzeA6Nx"
      },
      "execution_count": 12,
      "outputs": []
    },
    {
      "cell_type": "code",
      "source": [
        "categories = samp_rest['category'].str.get_dummies(sep=', ')\n",
        "metadata_expanded = pd.concat([samp_rest.drop('category', axis=1), categories], axis=1)\n",
        "\n",
        "metadata_expanded = gpd.GeoDataFrame(\n",
        "    metadata_expanded, geometry=gpd.points_from_xy(metadata_expanded.longitude, metadata_expanded.latitude), crs=\"EPSG:4326\"\n",
        ")"
      ],
      "metadata": {
        "id": "YXdOlkdFA7iz"
      },
      "execution_count": 13,
      "outputs": []
    },
    {
      "cell_type": "code",
      "source": [
        "columns_to_use = [col for col in metadata_expanded.columns if metadata_expanded[col].dtype in [np.float64, np.int64]]\n",
        "#'latitude',\n",
        "#'longitude',\n",
        "#'avg_rating',\n",
        "#'num_of_reviews',\n",
        "#'index_right',\n",
        "#'boro_code',\n",
        "#'shape_leng',\n",
        "#'shape_area',\n",
        "#'rating_bayesiano',\n",
        "#y todas las categoricas"
      ],
      "metadata": {
        "id": "4f-n5TGaA898"
      },
      "execution_count": 14,
      "outputs": []
    },
    {
      "cell_type": "code",
      "source": [
        "columns_to_use.remove('boro_code')\n",
        "columns_to_use.remove('shape_leng')\n",
        "columns_to_use.remove('shape_area')\n",
        "columns_to_use.remove('index_right')"
      ],
      "metadata": {
        "id": "79sAOwfeA_tN"
      },
      "execution_count": 15,
      "outputs": []
    },
    {
      "cell_type": "code",
      "source": [
        "col_norm = ['latitude',\n",
        "'longitude',\n",
        "'avg_rating',\n",
        "'num_of_reviews',\n",
        "'rating_bayesiano',]\n",
        "\n",
        "scaler = StandardScaler()\n",
        "\n",
        "# Normalizar las coordenadas y otros datos numéricos\n",
        "metadata_expanded[col_norm] = scaler.fit_transform(\n",
        "    metadata_expanded[col_norm]\n",
        ")"
      ],
      "metadata": {
        "id": "hwx8saOIBCBG"
      },
      "execution_count": 16,
      "outputs": []
    },
    {
      "cell_type": "markdown",
      "source": [
        "### rankGeoFM"
      ],
      "metadata": {
        "id": "NBIrN1OmBhuB"
      }
    },
    {
      "cell_type": "code",
      "source": [
        "samp.columns"
      ],
      "metadata": {
        "colab": {
          "base_uri": "https://localhost:8080/"
        },
        "id": "QQKFw7puC4UP",
        "outputId": "2116fc2f-76a5-4596-fed0-65e7c10d8b00"
      },
      "execution_count": 17,
      "outputs": [
        {
          "output_type": "execute_result",
          "data": {
            "text/plain": [
              "Index(['user_id', 'name', 'time', 'rating', 'text', 'pics', 'resp', 'gmap_id'], dtype='object')"
            ]
          },
          "metadata": {},
          "execution_count": 17
        }
      ]
    },
    {
      "cell_type": "code",
      "source": [
        "df = samp[['user_id', 'gmap_id', 'rating']]\n",
        "df.head()"
      ],
      "metadata": {
        "colab": {
          "base_uri": "https://localhost:8080/",
          "height": 206
        },
        "id": "K3S8d176ByNF",
        "outputId": "11fd7135-c7c3-4ab9-88c0-adab923e20b9"
      },
      "execution_count": 18,
      "outputs": [
        {
          "output_type": "execute_result",
          "data": {
            "text/plain": [
              "         user_id                                gmap_id  rating\n",
              "28  1.069871e+20  0x89c258b8e75311b5:0x745721b4d1be3147       5\n",
              "32  1.148414e+20  0x89c258b8e75311b5:0x745721b4d1be3147       2\n",
              "37  1.000514e+20  0x89c25bb23e0eec35:0xe8a6498dea29132b       5\n",
              "46  1.156750e+20  0x89c259063d62f499:0x5b5cab85882fd605       2\n",
              "55  1.081353e+20  0x89c259063d62f499:0x5b5cab85882fd605       5"
            ],
            "text/html": [
              "\n",
              "  <div id=\"df-51c4b5f3-8086-4cb3-ba90-d1de2d4454f2\" class=\"colab-df-container\">\n",
              "    <div>\n",
              "<style scoped>\n",
              "    .dataframe tbody tr th:only-of-type {\n",
              "        vertical-align: middle;\n",
              "    }\n",
              "\n",
              "    .dataframe tbody tr th {\n",
              "        vertical-align: top;\n",
              "    }\n",
              "\n",
              "    .dataframe thead th {\n",
              "        text-align: right;\n",
              "    }\n",
              "</style>\n",
              "<table border=\"1\" class=\"dataframe\">\n",
              "  <thead>\n",
              "    <tr style=\"text-align: right;\">\n",
              "      <th></th>\n",
              "      <th>user_id</th>\n",
              "      <th>gmap_id</th>\n",
              "      <th>rating</th>\n",
              "    </tr>\n",
              "  </thead>\n",
              "  <tbody>\n",
              "    <tr>\n",
              "      <th>28</th>\n",
              "      <td>1.069871e+20</td>\n",
              "      <td>0x89c258b8e75311b5:0x745721b4d1be3147</td>\n",
              "      <td>5</td>\n",
              "    </tr>\n",
              "    <tr>\n",
              "      <th>32</th>\n",
              "      <td>1.148414e+20</td>\n",
              "      <td>0x89c258b8e75311b5:0x745721b4d1be3147</td>\n",
              "      <td>2</td>\n",
              "    </tr>\n",
              "    <tr>\n",
              "      <th>37</th>\n",
              "      <td>1.000514e+20</td>\n",
              "      <td>0x89c25bb23e0eec35:0xe8a6498dea29132b</td>\n",
              "      <td>5</td>\n",
              "    </tr>\n",
              "    <tr>\n",
              "      <th>46</th>\n",
              "      <td>1.156750e+20</td>\n",
              "      <td>0x89c259063d62f499:0x5b5cab85882fd605</td>\n",
              "      <td>2</td>\n",
              "    </tr>\n",
              "    <tr>\n",
              "      <th>55</th>\n",
              "      <td>1.081353e+20</td>\n",
              "      <td>0x89c259063d62f499:0x5b5cab85882fd605</td>\n",
              "      <td>5</td>\n",
              "    </tr>\n",
              "  </tbody>\n",
              "</table>\n",
              "</div>\n",
              "    <div class=\"colab-df-buttons\">\n",
              "\n",
              "  <div class=\"colab-df-container\">\n",
              "    <button class=\"colab-df-convert\" onclick=\"convertToInteractive('df-51c4b5f3-8086-4cb3-ba90-d1de2d4454f2')\"\n",
              "            title=\"Convert this dataframe to an interactive table.\"\n",
              "            style=\"display:none;\">\n",
              "\n",
              "  <svg xmlns=\"http://www.w3.org/2000/svg\" height=\"24px\" viewBox=\"0 -960 960 960\">\n",
              "    <path d=\"M120-120v-720h720v720H120Zm60-500h600v-160H180v160Zm220 220h160v-160H400v160Zm0 220h160v-160H400v160ZM180-400h160v-160H180v160Zm440 0h160v-160H620v160ZM180-180h160v-160H180v160Zm440 0h160v-160H620v160Z\"/>\n",
              "  </svg>\n",
              "    </button>\n",
              "\n",
              "  <style>\n",
              "    .colab-df-container {\n",
              "      display:flex;\n",
              "      gap: 12px;\n",
              "    }\n",
              "\n",
              "    .colab-df-convert {\n",
              "      background-color: #E8F0FE;\n",
              "      border: none;\n",
              "      border-radius: 50%;\n",
              "      cursor: pointer;\n",
              "      display: none;\n",
              "      fill: #1967D2;\n",
              "      height: 32px;\n",
              "      padding: 0 0 0 0;\n",
              "      width: 32px;\n",
              "    }\n",
              "\n",
              "    .colab-df-convert:hover {\n",
              "      background-color: #E2EBFA;\n",
              "      box-shadow: 0px 1px 2px rgba(60, 64, 67, 0.3), 0px 1px 3px 1px rgba(60, 64, 67, 0.15);\n",
              "      fill: #174EA6;\n",
              "    }\n",
              "\n",
              "    .colab-df-buttons div {\n",
              "      margin-bottom: 4px;\n",
              "    }\n",
              "\n",
              "    [theme=dark] .colab-df-convert {\n",
              "      background-color: #3B4455;\n",
              "      fill: #D2E3FC;\n",
              "    }\n",
              "\n",
              "    [theme=dark] .colab-df-convert:hover {\n",
              "      background-color: #434B5C;\n",
              "      box-shadow: 0px 1px 3px 1px rgba(0, 0, 0, 0.15);\n",
              "      filter: drop-shadow(0px 1px 2px rgba(0, 0, 0, 0.3));\n",
              "      fill: #FFFFFF;\n",
              "    }\n",
              "  </style>\n",
              "\n",
              "    <script>\n",
              "      const buttonEl =\n",
              "        document.querySelector('#df-51c4b5f3-8086-4cb3-ba90-d1de2d4454f2 button.colab-df-convert');\n",
              "      buttonEl.style.display =\n",
              "        google.colab.kernel.accessAllowed ? 'block' : 'none';\n",
              "\n",
              "      async function convertToInteractive(key) {\n",
              "        const element = document.querySelector('#df-51c4b5f3-8086-4cb3-ba90-d1de2d4454f2');\n",
              "        const dataTable =\n",
              "          await google.colab.kernel.invokeFunction('convertToInteractive',\n",
              "                                                    [key], {});\n",
              "        if (!dataTable) return;\n",
              "\n",
              "        const docLinkHtml = 'Like what you see? Visit the ' +\n",
              "          '<a target=\"_blank\" href=https://colab.research.google.com/notebooks/data_table.ipynb>data table notebook</a>'\n",
              "          + ' to learn more about interactive tables.';\n",
              "        element.innerHTML = '';\n",
              "        dataTable['output_type'] = 'display_data';\n",
              "        await google.colab.output.renderOutput(dataTable, element);\n",
              "        const docLink = document.createElement('div');\n",
              "        docLink.innerHTML = docLinkHtml;\n",
              "        element.appendChild(docLink);\n",
              "      }\n",
              "    </script>\n",
              "  </div>\n",
              "\n",
              "\n",
              "<div id=\"df-bf92f39f-6b2c-4be9-ba0f-3d8ce4172d96\">\n",
              "  <button class=\"colab-df-quickchart\" onclick=\"quickchart('df-bf92f39f-6b2c-4be9-ba0f-3d8ce4172d96')\"\n",
              "            title=\"Suggest charts\"\n",
              "            style=\"display:none;\">\n",
              "\n",
              "<svg xmlns=\"http://www.w3.org/2000/svg\" height=\"24px\"viewBox=\"0 0 24 24\"\n",
              "     width=\"24px\">\n",
              "    <g>\n",
              "        <path d=\"M19 3H5c-1.1 0-2 .9-2 2v14c0 1.1.9 2 2 2h14c1.1 0 2-.9 2-2V5c0-1.1-.9-2-2-2zM9 17H7v-7h2v7zm4 0h-2V7h2v10zm4 0h-2v-4h2v4z\"/>\n",
              "    </g>\n",
              "</svg>\n",
              "  </button>\n",
              "\n",
              "<style>\n",
              "  .colab-df-quickchart {\n",
              "      --bg-color: #E8F0FE;\n",
              "      --fill-color: #1967D2;\n",
              "      --hover-bg-color: #E2EBFA;\n",
              "      --hover-fill-color: #174EA6;\n",
              "      --disabled-fill-color: #AAA;\n",
              "      --disabled-bg-color: #DDD;\n",
              "  }\n",
              "\n",
              "  [theme=dark] .colab-df-quickchart {\n",
              "      --bg-color: #3B4455;\n",
              "      --fill-color: #D2E3FC;\n",
              "      --hover-bg-color: #434B5C;\n",
              "      --hover-fill-color: #FFFFFF;\n",
              "      --disabled-bg-color: #3B4455;\n",
              "      --disabled-fill-color: #666;\n",
              "  }\n",
              "\n",
              "  .colab-df-quickchart {\n",
              "    background-color: var(--bg-color);\n",
              "    border: none;\n",
              "    border-radius: 50%;\n",
              "    cursor: pointer;\n",
              "    display: none;\n",
              "    fill: var(--fill-color);\n",
              "    height: 32px;\n",
              "    padding: 0;\n",
              "    width: 32px;\n",
              "  }\n",
              "\n",
              "  .colab-df-quickchart:hover {\n",
              "    background-color: var(--hover-bg-color);\n",
              "    box-shadow: 0 1px 2px rgba(60, 64, 67, 0.3), 0 1px 3px 1px rgba(60, 64, 67, 0.15);\n",
              "    fill: var(--button-hover-fill-color);\n",
              "  }\n",
              "\n",
              "  .colab-df-quickchart-complete:disabled,\n",
              "  .colab-df-quickchart-complete:disabled:hover {\n",
              "    background-color: var(--disabled-bg-color);\n",
              "    fill: var(--disabled-fill-color);\n",
              "    box-shadow: none;\n",
              "  }\n",
              "\n",
              "  .colab-df-spinner {\n",
              "    border: 2px solid var(--fill-color);\n",
              "    border-color: transparent;\n",
              "    border-bottom-color: var(--fill-color);\n",
              "    animation:\n",
              "      spin 1s steps(1) infinite;\n",
              "  }\n",
              "\n",
              "  @keyframes spin {\n",
              "    0% {\n",
              "      border-color: transparent;\n",
              "      border-bottom-color: var(--fill-color);\n",
              "      border-left-color: var(--fill-color);\n",
              "    }\n",
              "    20% {\n",
              "      border-color: transparent;\n",
              "      border-left-color: var(--fill-color);\n",
              "      border-top-color: var(--fill-color);\n",
              "    }\n",
              "    30% {\n",
              "      border-color: transparent;\n",
              "      border-left-color: var(--fill-color);\n",
              "      border-top-color: var(--fill-color);\n",
              "      border-right-color: var(--fill-color);\n",
              "    }\n",
              "    40% {\n",
              "      border-color: transparent;\n",
              "      border-right-color: var(--fill-color);\n",
              "      border-top-color: var(--fill-color);\n",
              "    }\n",
              "    60% {\n",
              "      border-color: transparent;\n",
              "      border-right-color: var(--fill-color);\n",
              "    }\n",
              "    80% {\n",
              "      border-color: transparent;\n",
              "      border-right-color: var(--fill-color);\n",
              "      border-bottom-color: var(--fill-color);\n",
              "    }\n",
              "    90% {\n",
              "      border-color: transparent;\n",
              "      border-bottom-color: var(--fill-color);\n",
              "    }\n",
              "  }\n",
              "</style>\n",
              "\n",
              "  <script>\n",
              "    async function quickchart(key) {\n",
              "      const quickchartButtonEl =\n",
              "        document.querySelector('#' + key + ' button');\n",
              "      quickchartButtonEl.disabled = true;  // To prevent multiple clicks.\n",
              "      quickchartButtonEl.classList.add('colab-df-spinner');\n",
              "      try {\n",
              "        const charts = await google.colab.kernel.invokeFunction(\n",
              "            'suggestCharts', [key], {});\n",
              "      } catch (error) {\n",
              "        console.error('Error during call to suggestCharts:', error);\n",
              "      }\n",
              "      quickchartButtonEl.classList.remove('colab-df-spinner');\n",
              "      quickchartButtonEl.classList.add('colab-df-quickchart-complete');\n",
              "    }\n",
              "    (() => {\n",
              "      let quickchartButtonEl =\n",
              "        document.querySelector('#df-bf92f39f-6b2c-4be9-ba0f-3d8ce4172d96 button');\n",
              "      quickchartButtonEl.style.display =\n",
              "        google.colab.kernel.accessAllowed ? 'block' : 'none';\n",
              "    })();\n",
              "  </script>\n",
              "</div>\n",
              "\n",
              "    </div>\n",
              "  </div>\n"
            ],
            "application/vnd.google.colaboratory.intrinsic+json": {
              "type": "dataframe",
              "variable_name": "df"
            }
          },
          "metadata": {},
          "execution_count": 18
        }
      ]
    },
    {
      "cell_type": "code",
      "source": [
        "# Conseguimos la latitud y longitud de los restaurantes desde metadata\n",
        "df = df.merge(metadata[['gmap_id', 'latitude', 'longitude']], on='gmap_id')\n",
        "df"
      ],
      "metadata": {
        "colab": {
          "base_uri": "https://localhost:8080/",
          "height": 423
        },
        "id": "ZSjwMwW4FPW0",
        "outputId": "d45e280b-0e74-4e42-ba5f-dbc18dc0a02f"
      },
      "execution_count": 19,
      "outputs": [
        {
          "output_type": "execute_result",
          "data": {
            "text/plain": [
              "             user_id                                gmap_id  rating  \\\n",
              "0       1.069871e+20  0x89c258b8e75311b5:0x745721b4d1be3147       5   \n",
              "1       1.148414e+20  0x89c258b8e75311b5:0x745721b4d1be3147       2   \n",
              "2       1.000514e+20  0x89c25bb23e0eec35:0xe8a6498dea29132b       5   \n",
              "3       1.156750e+20  0x89c259063d62f499:0x5b5cab85882fd605       2   \n",
              "4       1.081353e+20  0x89c259063d62f499:0x5b5cab85882fd605       5   \n",
              "...              ...                                    ...     ...   \n",
              "104511  1.141151e+20  0x89c258bf7e188dc7:0xdbd9387d875e2a02       5   \n",
              "104512  1.103083e+20  0x89c258bf7e188dc7:0xdbd9387d875e2a02       4   \n",
              "104513  1.082240e+20  0x89c258bf7e188dc7:0xdbd9387d875e2a02       4   \n",
              "104514  1.020892e+20  0x89c258bf7e188dc7:0xdbd9387d875e2a02       4   \n",
              "104515  1.163375e+20  0x89c25bdb104613e5:0xb5050c2be5ed435d       5   \n",
              "\n",
              "         latitude  longitude  \n",
              "0       40.772618 -73.952116  \n",
              "1       40.772618 -73.952116  \n",
              "2       40.686172 -73.978705  \n",
              "3       40.745304 -73.978768  \n",
              "4       40.745304 -73.978768  \n",
              "...           ...        ...  \n",
              "104511  40.771111 -73.956389  \n",
              "104512  40.771111 -73.956389  \n",
              "104513  40.771111 -73.956389  \n",
              "104514  40.771111 -73.956389  \n",
              "104515  40.707176 -74.012409  \n",
              "\n",
              "[104516 rows x 5 columns]"
            ],
            "text/html": [
              "\n",
              "  <div id=\"df-43fd563f-82a0-498f-b8e6-4e265ec558ae\" class=\"colab-df-container\">\n",
              "    <div>\n",
              "<style scoped>\n",
              "    .dataframe tbody tr th:only-of-type {\n",
              "        vertical-align: middle;\n",
              "    }\n",
              "\n",
              "    .dataframe tbody tr th {\n",
              "        vertical-align: top;\n",
              "    }\n",
              "\n",
              "    .dataframe thead th {\n",
              "        text-align: right;\n",
              "    }\n",
              "</style>\n",
              "<table border=\"1\" class=\"dataframe\">\n",
              "  <thead>\n",
              "    <tr style=\"text-align: right;\">\n",
              "      <th></th>\n",
              "      <th>user_id</th>\n",
              "      <th>gmap_id</th>\n",
              "      <th>rating</th>\n",
              "      <th>latitude</th>\n",
              "      <th>longitude</th>\n",
              "    </tr>\n",
              "  </thead>\n",
              "  <tbody>\n",
              "    <tr>\n",
              "      <th>0</th>\n",
              "      <td>1.069871e+20</td>\n",
              "      <td>0x89c258b8e75311b5:0x745721b4d1be3147</td>\n",
              "      <td>5</td>\n",
              "      <td>40.772618</td>\n",
              "      <td>-73.952116</td>\n",
              "    </tr>\n",
              "    <tr>\n",
              "      <th>1</th>\n",
              "      <td>1.148414e+20</td>\n",
              "      <td>0x89c258b8e75311b5:0x745721b4d1be3147</td>\n",
              "      <td>2</td>\n",
              "      <td>40.772618</td>\n",
              "      <td>-73.952116</td>\n",
              "    </tr>\n",
              "    <tr>\n",
              "      <th>2</th>\n",
              "      <td>1.000514e+20</td>\n",
              "      <td>0x89c25bb23e0eec35:0xe8a6498dea29132b</td>\n",
              "      <td>5</td>\n",
              "      <td>40.686172</td>\n",
              "      <td>-73.978705</td>\n",
              "    </tr>\n",
              "    <tr>\n",
              "      <th>3</th>\n",
              "      <td>1.156750e+20</td>\n",
              "      <td>0x89c259063d62f499:0x5b5cab85882fd605</td>\n",
              "      <td>2</td>\n",
              "      <td>40.745304</td>\n",
              "      <td>-73.978768</td>\n",
              "    </tr>\n",
              "    <tr>\n",
              "      <th>4</th>\n",
              "      <td>1.081353e+20</td>\n",
              "      <td>0x89c259063d62f499:0x5b5cab85882fd605</td>\n",
              "      <td>5</td>\n",
              "      <td>40.745304</td>\n",
              "      <td>-73.978768</td>\n",
              "    </tr>\n",
              "    <tr>\n",
              "      <th>...</th>\n",
              "      <td>...</td>\n",
              "      <td>...</td>\n",
              "      <td>...</td>\n",
              "      <td>...</td>\n",
              "      <td>...</td>\n",
              "    </tr>\n",
              "    <tr>\n",
              "      <th>104511</th>\n",
              "      <td>1.141151e+20</td>\n",
              "      <td>0x89c258bf7e188dc7:0xdbd9387d875e2a02</td>\n",
              "      <td>5</td>\n",
              "      <td>40.771111</td>\n",
              "      <td>-73.956389</td>\n",
              "    </tr>\n",
              "    <tr>\n",
              "      <th>104512</th>\n",
              "      <td>1.103083e+20</td>\n",
              "      <td>0x89c258bf7e188dc7:0xdbd9387d875e2a02</td>\n",
              "      <td>4</td>\n",
              "      <td>40.771111</td>\n",
              "      <td>-73.956389</td>\n",
              "    </tr>\n",
              "    <tr>\n",
              "      <th>104513</th>\n",
              "      <td>1.082240e+20</td>\n",
              "      <td>0x89c258bf7e188dc7:0xdbd9387d875e2a02</td>\n",
              "      <td>4</td>\n",
              "      <td>40.771111</td>\n",
              "      <td>-73.956389</td>\n",
              "    </tr>\n",
              "    <tr>\n",
              "      <th>104514</th>\n",
              "      <td>1.020892e+20</td>\n",
              "      <td>0x89c258bf7e188dc7:0xdbd9387d875e2a02</td>\n",
              "      <td>4</td>\n",
              "      <td>40.771111</td>\n",
              "      <td>-73.956389</td>\n",
              "    </tr>\n",
              "    <tr>\n",
              "      <th>104515</th>\n",
              "      <td>1.163375e+20</td>\n",
              "      <td>0x89c25bdb104613e5:0xb5050c2be5ed435d</td>\n",
              "      <td>5</td>\n",
              "      <td>40.707176</td>\n",
              "      <td>-74.012409</td>\n",
              "    </tr>\n",
              "  </tbody>\n",
              "</table>\n",
              "<p>104516 rows × 5 columns</p>\n",
              "</div>\n",
              "    <div class=\"colab-df-buttons\">\n",
              "\n",
              "  <div class=\"colab-df-container\">\n",
              "    <button class=\"colab-df-convert\" onclick=\"convertToInteractive('df-43fd563f-82a0-498f-b8e6-4e265ec558ae')\"\n",
              "            title=\"Convert this dataframe to an interactive table.\"\n",
              "            style=\"display:none;\">\n",
              "\n",
              "  <svg xmlns=\"http://www.w3.org/2000/svg\" height=\"24px\" viewBox=\"0 -960 960 960\">\n",
              "    <path d=\"M120-120v-720h720v720H120Zm60-500h600v-160H180v160Zm220 220h160v-160H400v160Zm0 220h160v-160H400v160ZM180-400h160v-160H180v160Zm440 0h160v-160H620v160ZM180-180h160v-160H180v160Zm440 0h160v-160H620v160Z\"/>\n",
              "  </svg>\n",
              "    </button>\n",
              "\n",
              "  <style>\n",
              "    .colab-df-container {\n",
              "      display:flex;\n",
              "      gap: 12px;\n",
              "    }\n",
              "\n",
              "    .colab-df-convert {\n",
              "      background-color: #E8F0FE;\n",
              "      border: none;\n",
              "      border-radius: 50%;\n",
              "      cursor: pointer;\n",
              "      display: none;\n",
              "      fill: #1967D2;\n",
              "      height: 32px;\n",
              "      padding: 0 0 0 0;\n",
              "      width: 32px;\n",
              "    }\n",
              "\n",
              "    .colab-df-convert:hover {\n",
              "      background-color: #E2EBFA;\n",
              "      box-shadow: 0px 1px 2px rgba(60, 64, 67, 0.3), 0px 1px 3px 1px rgba(60, 64, 67, 0.15);\n",
              "      fill: #174EA6;\n",
              "    }\n",
              "\n",
              "    .colab-df-buttons div {\n",
              "      margin-bottom: 4px;\n",
              "    }\n",
              "\n",
              "    [theme=dark] .colab-df-convert {\n",
              "      background-color: #3B4455;\n",
              "      fill: #D2E3FC;\n",
              "    }\n",
              "\n",
              "    [theme=dark] .colab-df-convert:hover {\n",
              "      background-color: #434B5C;\n",
              "      box-shadow: 0px 1px 3px 1px rgba(0, 0, 0, 0.15);\n",
              "      filter: drop-shadow(0px 1px 2px rgba(0, 0, 0, 0.3));\n",
              "      fill: #FFFFFF;\n",
              "    }\n",
              "  </style>\n",
              "\n",
              "    <script>\n",
              "      const buttonEl =\n",
              "        document.querySelector('#df-43fd563f-82a0-498f-b8e6-4e265ec558ae button.colab-df-convert');\n",
              "      buttonEl.style.display =\n",
              "        google.colab.kernel.accessAllowed ? 'block' : 'none';\n",
              "\n",
              "      async function convertToInteractive(key) {\n",
              "        const element = document.querySelector('#df-43fd563f-82a0-498f-b8e6-4e265ec558ae');\n",
              "        const dataTable =\n",
              "          await google.colab.kernel.invokeFunction('convertToInteractive',\n",
              "                                                    [key], {});\n",
              "        if (!dataTable) return;\n",
              "\n",
              "        const docLinkHtml = 'Like what you see? Visit the ' +\n",
              "          '<a target=\"_blank\" href=https://colab.research.google.com/notebooks/data_table.ipynb>data table notebook</a>'\n",
              "          + ' to learn more about interactive tables.';\n",
              "        element.innerHTML = '';\n",
              "        dataTable['output_type'] = 'display_data';\n",
              "        await google.colab.output.renderOutput(dataTable, element);\n",
              "        const docLink = document.createElement('div');\n",
              "        docLink.innerHTML = docLinkHtml;\n",
              "        element.appendChild(docLink);\n",
              "      }\n",
              "    </script>\n",
              "  </div>\n",
              "\n",
              "\n",
              "<div id=\"df-301b0d51-4e50-4c5b-b7ff-a364a7c6df25\">\n",
              "  <button class=\"colab-df-quickchart\" onclick=\"quickchart('df-301b0d51-4e50-4c5b-b7ff-a364a7c6df25')\"\n",
              "            title=\"Suggest charts\"\n",
              "            style=\"display:none;\">\n",
              "\n",
              "<svg xmlns=\"http://www.w3.org/2000/svg\" height=\"24px\"viewBox=\"0 0 24 24\"\n",
              "     width=\"24px\">\n",
              "    <g>\n",
              "        <path d=\"M19 3H5c-1.1 0-2 .9-2 2v14c0 1.1.9 2 2 2h14c1.1 0 2-.9 2-2V5c0-1.1-.9-2-2-2zM9 17H7v-7h2v7zm4 0h-2V7h2v10zm4 0h-2v-4h2v4z\"/>\n",
              "    </g>\n",
              "</svg>\n",
              "  </button>\n",
              "\n",
              "<style>\n",
              "  .colab-df-quickchart {\n",
              "      --bg-color: #E8F0FE;\n",
              "      --fill-color: #1967D2;\n",
              "      --hover-bg-color: #E2EBFA;\n",
              "      --hover-fill-color: #174EA6;\n",
              "      --disabled-fill-color: #AAA;\n",
              "      --disabled-bg-color: #DDD;\n",
              "  }\n",
              "\n",
              "  [theme=dark] .colab-df-quickchart {\n",
              "      --bg-color: #3B4455;\n",
              "      --fill-color: #D2E3FC;\n",
              "      --hover-bg-color: #434B5C;\n",
              "      --hover-fill-color: #FFFFFF;\n",
              "      --disabled-bg-color: #3B4455;\n",
              "      --disabled-fill-color: #666;\n",
              "  }\n",
              "\n",
              "  .colab-df-quickchart {\n",
              "    background-color: var(--bg-color);\n",
              "    border: none;\n",
              "    border-radius: 50%;\n",
              "    cursor: pointer;\n",
              "    display: none;\n",
              "    fill: var(--fill-color);\n",
              "    height: 32px;\n",
              "    padding: 0;\n",
              "    width: 32px;\n",
              "  }\n",
              "\n",
              "  .colab-df-quickchart:hover {\n",
              "    background-color: var(--hover-bg-color);\n",
              "    box-shadow: 0 1px 2px rgba(60, 64, 67, 0.3), 0 1px 3px 1px rgba(60, 64, 67, 0.15);\n",
              "    fill: var(--button-hover-fill-color);\n",
              "  }\n",
              "\n",
              "  .colab-df-quickchart-complete:disabled,\n",
              "  .colab-df-quickchart-complete:disabled:hover {\n",
              "    background-color: var(--disabled-bg-color);\n",
              "    fill: var(--disabled-fill-color);\n",
              "    box-shadow: none;\n",
              "  }\n",
              "\n",
              "  .colab-df-spinner {\n",
              "    border: 2px solid var(--fill-color);\n",
              "    border-color: transparent;\n",
              "    border-bottom-color: var(--fill-color);\n",
              "    animation:\n",
              "      spin 1s steps(1) infinite;\n",
              "  }\n",
              "\n",
              "  @keyframes spin {\n",
              "    0% {\n",
              "      border-color: transparent;\n",
              "      border-bottom-color: var(--fill-color);\n",
              "      border-left-color: var(--fill-color);\n",
              "    }\n",
              "    20% {\n",
              "      border-color: transparent;\n",
              "      border-left-color: var(--fill-color);\n",
              "      border-top-color: var(--fill-color);\n",
              "    }\n",
              "    30% {\n",
              "      border-color: transparent;\n",
              "      border-left-color: var(--fill-color);\n",
              "      border-top-color: var(--fill-color);\n",
              "      border-right-color: var(--fill-color);\n",
              "    }\n",
              "    40% {\n",
              "      border-color: transparent;\n",
              "      border-right-color: var(--fill-color);\n",
              "      border-top-color: var(--fill-color);\n",
              "    }\n",
              "    60% {\n",
              "      border-color: transparent;\n",
              "      border-right-color: var(--fill-color);\n",
              "    }\n",
              "    80% {\n",
              "      border-color: transparent;\n",
              "      border-right-color: var(--fill-color);\n",
              "      border-bottom-color: var(--fill-color);\n",
              "    }\n",
              "    90% {\n",
              "      border-color: transparent;\n",
              "      border-bottom-color: var(--fill-color);\n",
              "    }\n",
              "  }\n",
              "</style>\n",
              "\n",
              "  <script>\n",
              "    async function quickchart(key) {\n",
              "      const quickchartButtonEl =\n",
              "        document.querySelector('#' + key + ' button');\n",
              "      quickchartButtonEl.disabled = true;  // To prevent multiple clicks.\n",
              "      quickchartButtonEl.classList.add('colab-df-spinner');\n",
              "      try {\n",
              "        const charts = await google.colab.kernel.invokeFunction(\n",
              "            'suggestCharts', [key], {});\n",
              "      } catch (error) {\n",
              "        console.error('Error during call to suggestCharts:', error);\n",
              "      }\n",
              "      quickchartButtonEl.classList.remove('colab-df-spinner');\n",
              "      quickchartButtonEl.classList.add('colab-df-quickchart-complete');\n",
              "    }\n",
              "    (() => {\n",
              "      let quickchartButtonEl =\n",
              "        document.querySelector('#df-301b0d51-4e50-4c5b-b7ff-a364a7c6df25 button');\n",
              "      quickchartButtonEl.style.display =\n",
              "        google.colab.kernel.accessAllowed ? 'block' : 'none';\n",
              "    })();\n",
              "  </script>\n",
              "</div>\n",
              "\n",
              "  <div id=\"id_d1b9b425-ffff-48ba-8c09-ee2a2ca6a249\">\n",
              "    <style>\n",
              "      .colab-df-generate {\n",
              "        background-color: #E8F0FE;\n",
              "        border: none;\n",
              "        border-radius: 50%;\n",
              "        cursor: pointer;\n",
              "        display: none;\n",
              "        fill: #1967D2;\n",
              "        height: 32px;\n",
              "        padding: 0 0 0 0;\n",
              "        width: 32px;\n",
              "      }\n",
              "\n",
              "      .colab-df-generate:hover {\n",
              "        background-color: #E2EBFA;\n",
              "        box-shadow: 0px 1px 2px rgba(60, 64, 67, 0.3), 0px 1px 3px 1px rgba(60, 64, 67, 0.15);\n",
              "        fill: #174EA6;\n",
              "      }\n",
              "\n",
              "      [theme=dark] .colab-df-generate {\n",
              "        background-color: #3B4455;\n",
              "        fill: #D2E3FC;\n",
              "      }\n",
              "\n",
              "      [theme=dark] .colab-df-generate:hover {\n",
              "        background-color: #434B5C;\n",
              "        box-shadow: 0px 1px 3px 1px rgba(0, 0, 0, 0.15);\n",
              "        filter: drop-shadow(0px 1px 2px rgba(0, 0, 0, 0.3));\n",
              "        fill: #FFFFFF;\n",
              "      }\n",
              "    </style>\n",
              "    <button class=\"colab-df-generate\" onclick=\"generateWithVariable('df')\"\n",
              "            title=\"Generate code using this dataframe.\"\n",
              "            style=\"display:none;\">\n",
              "\n",
              "  <svg xmlns=\"http://www.w3.org/2000/svg\" height=\"24px\"viewBox=\"0 0 24 24\"\n",
              "       width=\"24px\">\n",
              "    <path d=\"M7,19H8.4L18.45,9,17,7.55,7,17.6ZM5,21V16.75L18.45,3.32a2,2,0,0,1,2.83,0l1.4,1.43a1.91,1.91,0,0,1,.58,1.4,1.91,1.91,0,0,1-.58,1.4L9.25,21ZM18.45,9,17,7.55Zm-12,3A5.31,5.31,0,0,0,4.9,8.1,5.31,5.31,0,0,0,1,6.5,5.31,5.31,0,0,0,4.9,4.9,5.31,5.31,0,0,0,6.5,1,5.31,5.31,0,0,0,8.1,4.9,5.31,5.31,0,0,0,12,6.5,5.46,5.46,0,0,0,6.5,12Z\"/>\n",
              "  </svg>\n",
              "    </button>\n",
              "    <script>\n",
              "      (() => {\n",
              "      const buttonEl =\n",
              "        document.querySelector('#id_d1b9b425-ffff-48ba-8c09-ee2a2ca6a249 button.colab-df-generate');\n",
              "      buttonEl.style.display =\n",
              "        google.colab.kernel.accessAllowed ? 'block' : 'none';\n",
              "\n",
              "      buttonEl.onclick = () => {\n",
              "        google.colab.notebook.generateWithVariable('df');\n",
              "      }\n",
              "      })();\n",
              "    </script>\n",
              "  </div>\n",
              "\n",
              "    </div>\n",
              "  </div>\n"
            ],
            "application/vnd.google.colaboratory.intrinsic+json": {
              "type": "dataframe",
              "variable_name": "df"
            }
          },
          "metadata": {},
          "execution_count": 19
        }
      ]
    },
    {
      "cell_type": "code",
      "source": [
        "# Definición de funciones para la preparación de la matriz de características\n",
        "def get_single_entries_in_fm_input_format(data, itemlist):\n",
        "    column = len(itemlist)\n",
        "    row = len(data)\n",
        "    shape = (row, column)\n",
        "    row_inds = np.zeros(len(data), dtype=int)\n",
        "    col_inds = np.zeros(len(data), dtype=int)\n",
        "    datalist = np.zeros(len(data), dtype=float)\n",
        "\n",
        "    for i, item in enumerate(data):\n",
        "        datalist[i] = 1\n",
        "        if item in itemlist:\n",
        "            col_inds[i] = np.where(itemlist == item)[0][0]\n",
        "        else:\n",
        "            raise ValueError(f\"Item {item} not found in itemlist.\")\n",
        "        row_inds[i] = i\n",
        "\n",
        "    return datalist, row_inds, col_inds, shape\n",
        "\n",
        "def add_geographical_features(data, feature_names):\n",
        "    num_entries = len(data)\n",
        "    geodata = np.zeros((num_entries, 2), dtype=float)\n",
        "    for i in range(num_entries):\n",
        "        geodata[i, 0] = data.iloc[i]['latitude']\n",
        "        geodata[i, 1] = data.iloc[i]['longitude']\n",
        "    row_indices = np.repeat(np.arange(num_entries), 2)\n",
        "    col_indices = np.array([feature_names.index('latitude'), feature_names.index('longitude')] * num_entries)\n",
        "    data_values = geodata.flatten()\n",
        "    return data_values, row_indices, col_indices"
      ],
      "metadata": {
        "id": "5o2pAgq9BEIl"
      },
      "execution_count": 20,
      "outputs": []
    },
    {
      "cell_type": "code",
      "source": [
        "df.reset_index(inplace=True)"
      ],
      "metadata": {
        "id": "iErKRtAy8J7Q"
      },
      "execution_count": 21,
      "outputs": []
    },
    {
      "cell_type": "code",
      "source": [
        "# Mapeo de identificaciones a índices\n",
        "user_indices = {user: i for i, user in enumerate(df['user_id'].unique())}\n",
        "restaurant_indices = {restaurant: i for i, restaurant in enumerate(df['gmap_id'].unique())}"
      ],
      "metadata": {
        "id": "KX4ZV72t8Nda"
      },
      "execution_count": 22,
      "outputs": []
    },
    {
      "cell_type": "code",
      "source": [
        "# Creamos características\n",
        "user_data = df['user_id'].map(user_indices).values\n",
        "restaurant_data = df['gmap_id'].map(restaurant_indices).values"
      ],
      "metadata": {
        "id": "-pAkfv5F8Uty"
      },
      "execution_count": 23,
      "outputs": []
    },
    {
      "cell_type": "code",
      "source": [
        "# Aplicamos funciones para obtener la matriz sparse\n",
        "user_datalist, user_row_inds, user_col_inds, _ = get_single_entries_in_fm_input_format(user_data, list(user_indices.values()))\n",
        "restaurant_datalist, restaurant_row_inds, restaurant_col_inds, _ = get_single_entries_in_fm_input_format(restaurant_data, list(restaurant_indices.values()))\n",
        "geo_datalist, geo_row_inds, geo_col_inds = add_geographical_features(df, ['latitude', 'longitude'])"
      ],
      "metadata": {
        "id": "2ebjwHvb8V2a"
      },
      "execution_count": 24,
      "outputs": []
    },
    {
      "cell_type": "code",
      "source": [
        "# Combinamos todas las características en una sola matriz sparse\n",
        "datalist = np.concatenate([user_datalist, restaurant_datalist, geo_datalist])\n",
        "row_inds = np.concatenate([user_row_inds, restaurant_row_inds, geo_row_inds])\n",
        "col_inds = np.concatenate([user_col_inds, restaurant_col_inds, geo_col_inds])\n",
        "total_features = len(user_indices) + len(restaurant_indices) + 2\n",
        "shape = (df.shape[0], total_features)\n",
        "X = csc_matrix((datalist, (row_inds, col_inds)), shape=shape)\n",
        "y = df['rating'].values"
      ],
      "metadata": {
        "id": "oxT_2jT38bBe"
      },
      "execution_count": 25,
      "outputs": []
    },
    {
      "cell_type": "code",
      "source": [
        "# Dividimos los datos en entrenamiento y prueba\n",
        "X_train, X_test, y_train, y_test, idx_train, idx_test = train_test_split(X, y, df.index, test_size=0.25, random_state=42)"
      ],
      "metadata": {
        "id": "Fx3FaKgl8cF2"
      },
      "execution_count": 26,
      "outputs": []
    },
    {
      "cell_type": "code",
      "source": [
        "# Entrenamiento del modelo de factorización de matrices\n",
        "fm = als.FMRegression(n_iter=1000, init_stdev=0.1, rank=10, l2_reg_w=0.1, l2_reg_V=0.5)\n",
        "fm.fit(X_train, y_train)"
      ],
      "metadata": {
        "colab": {
          "base_uri": "https://localhost:8080/",
          "height": 74
        },
        "id": "LmuKG_FE8fZn",
        "outputId": "8ea06de8-b2f4-4a7e-ad9d-24c293c05a9e"
      },
      "execution_count": 27,
      "outputs": [
        {
          "output_type": "execute_result",
          "data": {
            "text/plain": [
              "FMRegression(l2_reg_V=0.5, n_iter=1000, rank=10)"
            ],
            "text/html": [
              "<style>#sk-container-id-1 {color: black;background-color: white;}#sk-container-id-1 pre{padding: 0;}#sk-container-id-1 div.sk-toggleable {background-color: white;}#sk-container-id-1 label.sk-toggleable__label {cursor: pointer;display: block;width: 100%;margin-bottom: 0;padding: 0.3em;box-sizing: border-box;text-align: center;}#sk-container-id-1 label.sk-toggleable__label-arrow:before {content: \"▸\";float: left;margin-right: 0.25em;color: #696969;}#sk-container-id-1 label.sk-toggleable__label-arrow:hover:before {color: black;}#sk-container-id-1 div.sk-estimator:hover label.sk-toggleable__label-arrow:before {color: black;}#sk-container-id-1 div.sk-toggleable__content {max-height: 0;max-width: 0;overflow: hidden;text-align: left;background-color: #f0f8ff;}#sk-container-id-1 div.sk-toggleable__content pre {margin: 0.2em;color: black;border-radius: 0.25em;background-color: #f0f8ff;}#sk-container-id-1 input.sk-toggleable__control:checked~div.sk-toggleable__content {max-height: 200px;max-width: 100%;overflow: auto;}#sk-container-id-1 input.sk-toggleable__control:checked~label.sk-toggleable__label-arrow:before {content: \"▾\";}#sk-container-id-1 div.sk-estimator input.sk-toggleable__control:checked~label.sk-toggleable__label {background-color: #d4ebff;}#sk-container-id-1 div.sk-label input.sk-toggleable__control:checked~label.sk-toggleable__label {background-color: #d4ebff;}#sk-container-id-1 input.sk-hidden--visually {border: 0;clip: rect(1px 1px 1px 1px);clip: rect(1px, 1px, 1px, 1px);height: 1px;margin: -1px;overflow: hidden;padding: 0;position: absolute;width: 1px;}#sk-container-id-1 div.sk-estimator {font-family: monospace;background-color: #f0f8ff;border: 1px dotted black;border-radius: 0.25em;box-sizing: border-box;margin-bottom: 0.5em;}#sk-container-id-1 div.sk-estimator:hover {background-color: #d4ebff;}#sk-container-id-1 div.sk-parallel-item::after {content: \"\";width: 100%;border-bottom: 1px solid gray;flex-grow: 1;}#sk-container-id-1 div.sk-label:hover label.sk-toggleable__label {background-color: #d4ebff;}#sk-container-id-1 div.sk-serial::before {content: \"\";position: absolute;border-left: 1px solid gray;box-sizing: border-box;top: 0;bottom: 0;left: 50%;z-index: 0;}#sk-container-id-1 div.sk-serial {display: flex;flex-direction: column;align-items: center;background-color: white;padding-right: 0.2em;padding-left: 0.2em;position: relative;}#sk-container-id-1 div.sk-item {position: relative;z-index: 1;}#sk-container-id-1 div.sk-parallel {display: flex;align-items: stretch;justify-content: center;background-color: white;position: relative;}#sk-container-id-1 div.sk-item::before, #sk-container-id-1 div.sk-parallel-item::before {content: \"\";position: absolute;border-left: 1px solid gray;box-sizing: border-box;top: 0;bottom: 0;left: 50%;z-index: -1;}#sk-container-id-1 div.sk-parallel-item {display: flex;flex-direction: column;z-index: 1;position: relative;background-color: white;}#sk-container-id-1 div.sk-parallel-item:first-child::after {align-self: flex-end;width: 50%;}#sk-container-id-1 div.sk-parallel-item:last-child::after {align-self: flex-start;width: 50%;}#sk-container-id-1 div.sk-parallel-item:only-child::after {width: 0;}#sk-container-id-1 div.sk-dashed-wrapped {border: 1px dashed gray;margin: 0 0.4em 0.5em 0.4em;box-sizing: border-box;padding-bottom: 0.4em;background-color: white;}#sk-container-id-1 div.sk-label label {font-family: monospace;font-weight: bold;display: inline-block;line-height: 1.2em;}#sk-container-id-1 div.sk-label-container {text-align: center;}#sk-container-id-1 div.sk-container {/* jupyter's `normalize.less` sets `[hidden] { display: none; }` but bootstrap.min.css set `[hidden] { display: none !important; }` so we also need the `!important` here to be able to override the default hidden behavior on the sphinx rendered scikit-learn.org. See: https://github.com/scikit-learn/scikit-learn/issues/21755 */display: inline-block !important;position: relative;}#sk-container-id-1 div.sk-text-repr-fallback {display: none;}</style><div id=\"sk-container-id-1\" class=\"sk-top-container\"><div class=\"sk-text-repr-fallback\"><pre>FMRegression(l2_reg_V=0.5, n_iter=1000, rank=10)</pre><b>In a Jupyter environment, please rerun this cell to show the HTML representation or trust the notebook. <br />On GitHub, the HTML representation is unable to render, please try loading this page with nbviewer.org.</b></div><div class=\"sk-container\" hidden><div class=\"sk-item\"><div class=\"sk-estimator sk-toggleable\"><input class=\"sk-toggleable__control sk-hidden--visually\" id=\"sk-estimator-id-1\" type=\"checkbox\" checked><label for=\"sk-estimator-id-1\" class=\"sk-toggleable__label sk-toggleable__label-arrow\">FMRegression</label><div class=\"sk-toggleable__content\"><pre>FMRegression(l2_reg_V=0.5, n_iter=1000, rank=10)</pre></div></div></div></div></div>"
            ]
          },
          "metadata": {},
          "execution_count": 27
        }
      ]
    },
    {
      "cell_type": "code",
      "source": [
        "# Predicción\n",
        "y_pred = fm.predict(X_test)"
      ],
      "metadata": {
        "id": "G9hjn9jL8g_K"
      },
      "execution_count": 28,
      "outputs": []
    },
    {
      "cell_type": "code",
      "source": [
        "# Calculamos errores\n",
        "error_als = mean_squared_error(y_test, y_pred)\n",
        "print('Mean squared error under ALS: {}'.format(error_als))\n",
        "print('Root mean squared error under ALS: {}'.format(np.sqrt(error_als)))\n",
        "\n",
        "mae = np.mean(np.abs(y_test - y_pred))\n",
        "print('Mean absolute error under ALS: {}'.format(mae))"
      ],
      "metadata": {
        "colab": {
          "base_uri": "https://localhost:8080/"
        },
        "id": "X7YiO6Nz8pul",
        "outputId": "395869d9-6760-4ed1-88ac-9a5b22d21e55"
      },
      "execution_count": 29,
      "outputs": [
        {
          "output_type": "stream",
          "name": "stdout",
          "text": [
            "Mean squared error under ALS: 1.6134929205547694\n",
            "Root mean squared error under ALS: 1.2702334118400325\n",
            "Mean absolute error under ALS: 0.936707028654463\n"
          ]
        }
      ]
    },
    {
      "cell_type": "code",
      "source": [
        "# Preparamos DataFrame para evaluación de métricas\n",
        "test_users = df.loc[idx_test, 'user_id']\n",
        "test_restaurants = df.loc[idx_test, 'gmap_id']\n",
        "predictions_df = pd.DataFrame({\n",
        "    'user_id': test_users.values,\n",
        "    'restaurant_id': test_restaurants.values,\n",
        "    'predicted_rating': y_pred,\n",
        "    'true_rating': y_test\n",
        "})\n",
        "predictions_df.sort_values(by=['user_id', 'predicted_rating'], ascending=[True, False], inplace=True)"
      ],
      "metadata": {
        "id": "-a5Ci0FS8l96"
      },
      "execution_count": 30,
      "outputs": []
    },
    {
      "cell_type": "code",
      "source": [
        "def precision_at_k(df, k, threshold):\n",
        "    # Calcula precision para cada usuario\n",
        "    precisions = []\n",
        "    for _, group in df.groupby('user_id'):\n",
        "        relevant = group['true_rating'] >= threshold\n",
        "        precisions.append(relevant.head(k).sum() / k)\n",
        "    return np.mean(precisions)\n",
        "\n",
        "def recall_at_k(df, k, threshold):\n",
        "    # Calcula recall para cada usuario\n",
        "    recalls = []\n",
        "    for _, group in df.groupby('user_id'):\n",
        "        relevant = group['true_rating'] >= threshold\n",
        "        total_relevant = relevant.sum()\n",
        "        if total_relevant > 0:\n",
        "            recalls.append(relevant.head(k).sum() / total_relevant)\n",
        "        else:\n",
        "            recalls.append(0)\n",
        "    return np.mean(recalls)\n",
        "\n",
        "def mean_average_precision_at_k(df, k, threshold):\n",
        "    # Calcula MAP para cada usuario\n",
        "    ap_scores = []\n",
        "    for _, group in df.groupby('user_id'):\n",
        "        relevant = group['true_rating'] >= threshold\n",
        "        n_relevant = 0\n",
        "        average_precision = 0.0\n",
        "        for i, rel in enumerate(relevant.head(k), start=1):\n",
        "            if rel:\n",
        "                n_relevant += 1\n",
        "                average_precision += n_relevant / i\n",
        "        if n_relevant > 0:\n",
        "            average_precision /= n_relevant\n",
        "        ap_scores.append(average_precision)\n",
        "    return np.mean(ap_scores)\n",
        "\n",
        "def dcg_at_k(scores, k):\n",
        "    \"\"\"Calculate DCG for the top k scoring items.\"\"\"\n",
        "    return scores[:k].sum()\n",
        "\n",
        "def ndcg_at_k(df, k, threshold):\n",
        "    \"\"\"Calculate normalized DCG for all users and return the average.\"\"\"\n",
        "    ndcg_scores = []\n",
        "    for _, group in df.groupby('user_id'):\n",
        "        relevance_scores = (group['true_rating'] >= threshold).astype(int).values\n",
        "        sorted_scores = np.sort(relevance_scores)[::-1]\n",
        "\n",
        "        # Calculate DCG for the top k recommendations\n",
        "        dcg = dcg_at_k(relevance_scores[:k], k)\n",
        "\n",
        "        # Calculate ideal DCG for the top k recommendations\n",
        "        idcg = dcg_at_k(sorted_scores[:k], k)\n",
        "\n",
        "        # Protect against division by zero in case idcg is zero\n",
        "        if idcg == 0:\n",
        "            ndcg_scores.append(0)\n",
        "        else:\n",
        "            ndcg_scores.append(dcg / idcg)\n",
        "\n",
        "    return np.mean(ndcg_scores) if ndcg_scores else 0"
      ],
      "metadata": {
        "id": "3DtlaCUW--g_"
      },
      "execution_count": 31,
      "outputs": []
    },
    {
      "cell_type": "code",
      "source": [
        "k = 10\n",
        "threshold = 5\n",
        "\n",
        "precision = precision_at_k(predictions_df, k, threshold)\n",
        "recall = recall_at_k(predictions_df, k, threshold)\n",
        "map_score = mean_average_precision_at_k(predictions_df, k, threshold)\n",
        "\n",
        "print(f\"Precision@{k}: {precision:.4f}\")\n",
        "print(f\"Recall@{k}: {recall:.4f}\")\n",
        "print(f\"MAP@{k}: {map_score:.4f}\")\n",
        "\n",
        "try:\n",
        "    ndcg = ndcg_at_k(predictions_df, k, threshold)\n",
        "    print(f\"NDCG@{k}: {ndcg:.4f}\")\n",
        "except Exception as e:\n",
        "    print(f\"An error occurred: {e}\")"
      ],
      "metadata": {
        "colab": {
          "base_uri": "https://localhost:8080/"
        },
        "id": "mAaPC7dn_ADl",
        "outputId": "b1d25b69-f922-49b5-c82e-23ad66d47522"
      },
      "execution_count": 32,
      "outputs": [
        {
          "output_type": "stream",
          "name": "stdout",
          "text": [
            "Precision@10: 0.1695\n",
            "Recall@10: 0.7445\n",
            "MAP@10: 0.6498\n",
            "NDCG@10: 0.7477\n"
          ]
        }
      ]
    },
    {
      "cell_type": "markdown",
      "source": [
        "#### Evaluación para un usuario específico"
      ],
      "metadata": {
        "id": "ik-Ub9miNhil"
      }
    },
    {
      "cell_type": "code",
      "source": [
        "user_id = 110104426283076616192"
      ],
      "metadata": {
        "id": "ycAnvmAPNnXt"
      },
      "execution_count": 47,
      "outputs": []
    },
    {
      "cell_type": "code",
      "source": [
        "# Obtenemos todos los restaurantes que el usuario específico ya ha calificado\n",
        "user_rated_restaurants = df[df['user_id'] == user_id]['gmap_id'].unique()\n",
        "\n",
        "# Todos los restaurantes posibles\n",
        "all_restaurants = df['gmap_id'].unique()\n",
        "\n",
        "# Filtramos para obtener solo los restaurantes no calificados por el usuario\n",
        "unrated_restaurants = np.setdiff1d(all_restaurants, user_rated_restaurants)"
      ],
      "metadata": {
        "id": "qCp3mdZALnHk"
      },
      "execution_count": 48,
      "outputs": []
    },
    {
      "cell_type": "code",
      "source": [
        "# Creamos el array para el usuario específico, repitiendo su ID para cada restaurante no calificado\n",
        "user_data = np.array([user_id] * len(unrated_restaurants))\n",
        "\n",
        "# Usamos la función para transformar los datos de usuario y restaurante a formato disperso\n",
        "user_datalist, user_row_inds, user_col_inds, user_shape = get_single_entries_in_fm_input_format(user_data, userlist)\n",
        "restaurant_datalist, restaurant_row_inds, restaurant_col_inds, restaurant_shape = get_single_entries_in_fm_input_format(unrated_restaurants, restaurantlist)\n",
        "\n",
        "# Combinamos las entradas para la matriz dispersa\n",
        "from scipy.sparse import coo_matrix\n",
        "\n",
        "# Nos aseguramos de ajustar los índices de columna para los restaurantes\n",
        "shift_cols = len(userlist)\n",
        "restaurant_col_inds = shift_cols + restaurant_col_inds\n",
        "\n",
        "total_features = len(userlist) + len(restaurantlist)\n",
        "total_entries = len(user_datalist) + len(restaurant_datalist)\n",
        "datalist = np.concatenate([user_datalist, restaurant_datalist])\n",
        "row_inds = np.concatenate([user_row_inds, restaurant_row_inds])\n",
        "col_inds = np.concatenate([user_col_inds, restaurant_col_inds])\n",
        "\n",
        "# Creamos la matriz dispersa final para las predicciones\n",
        "X_predict = coo_matrix((datalist, (row_inds, col_inds)), shape=(user_shape[0], total_features))"
      ],
      "metadata": {
        "id": "CkHG_4-LN6Ri"
      },
      "execution_count": 49,
      "outputs": []
    },
    {
      "cell_type": "code",
      "source": [
        "print(\"Número de características en X_predict: \", X_predict.shape[1])\n",
        "print(\"Número de características que el modelo espera: \", len(fm.w_))"
      ],
      "metadata": {
        "colab": {
          "base_uri": "https://localhost:8080/"
        },
        "id": "K6K7axNzRBps",
        "outputId": "1881c6de-e3fc-4e66-cbdf-c0de477de379"
      },
      "execution_count": 50,
      "outputs": [
        {
          "output_type": "stream",
          "name": "stdout",
          "text": [
            "Número de características en X_predict:  26937\n",
            "Número de características que el modelo espera:  26939\n"
          ]
        }
      ]
    },
    {
      "cell_type": "code",
      "source": [
        "from scipy.sparse import hstack\n",
        "\n",
        "if X_predict.shape[1] != len(fm.w_):\n",
        "    # Ajustamos X_predict\n",
        "    missing_cols = len(fm.w_) - X_predict.shape[1]\n",
        "    if missing_cols > 0:\n",
        "        X_predict = hstack([X_predict, coo_matrix((X_predict.shape[0], missing_cols))], format='coo')"
      ],
      "metadata": {
        "id": "nssmjB8MRMgQ"
      },
      "execution_count": 51,
      "outputs": []
    },
    {
      "cell_type": "code",
      "source": [
        "print(\"Número de características en X_predict: \", X_predict.shape[1])\n",
        "print(\"Número de características que el modelo espera: \", len(fm.w_))"
      ],
      "metadata": {
        "colab": {
          "base_uri": "https://localhost:8080/"
        },
        "id": "GBtmKD4yRQaz",
        "outputId": "8c3dc9aa-6993-49ec-8a50-5ced63b92bbb"
      },
      "execution_count": 52,
      "outputs": [
        {
          "output_type": "stream",
          "name": "stdout",
          "text": [
            "Número de características en X_predict:  26939\n",
            "Número de características que el modelo espera:  26939\n"
          ]
        }
      ]
    },
    {
      "cell_type": "code",
      "source": [
        "y_pred_user = fm.predict(X_predict)\n",
        "\n",
        "# Mostramos las predicciones\n",
        "predictions_df = pd.DataFrame({\n",
        "    'restaurant_id': unrated_restaurants,\n",
        "    'predicted_rating': y_pred_user\n",
        "})\n",
        "top_predictions = predictions_df.sort_values(by='predicted_rating', ascending=False).head(10)\n",
        "print(top_predictions)"
      ],
      "metadata": {
        "colab": {
          "base_uri": "https://localhost:8080/"
        },
        "id": "7eMtz4r2N83x",
        "outputId": "0a8427f4-d819-4d26-8a6c-4cf50110c2eb"
      },
      "execution_count": 53,
      "outputs": [
        {
          "output_type": "stream",
          "name": "stdout",
          "text": [
            "                               restaurant_id  predicted_rating\n",
            "7824   0x89c259fc38103eeb:0x9d312733d2e644c6         11.266483\n",
            "8931   0x89c25ae490fc5ad1:0x1674fb4dcf8c942a         11.170501\n",
            "5709   0x89c2599220925a47:0x23446a07fc576647         11.141535\n",
            "6029   0x89c2599847b3905d:0x5e1bf0d8a3586757         11.132243\n",
            "7817    0x89c259f7699acdd3:0x8be5fd69ac00af9         11.125738\n",
            "10873   0x89c25c9972502351:0x6a3b1a4849fb836         11.056967\n",
            "14711  0x89c28cb9632a19a5:0xec5fa0b8aa9b78ea         11.051325\n",
            "4254   0x89c25928790e3d2b:0x739b3c92a765e8c9         10.975860\n",
            "8772   0x89c25aae09d307d7:0x82eb059e0bce24d1         10.956107\n",
            "12015  0x89c25f2e06a8d0fb:0xae66818256a80dbf         10.946085\n"
          ]
        }
      ]
    },
    {
      "cell_type": "code",
      "source": [
        "# Normalizamos las predicciones\n",
        "y_pred_user_clipped = np.clip(y_pred_user, 1, 5)\n",
        "\n",
        "# Mostramos las predicciones\n",
        "predictions_df = pd.DataFrame({\n",
        "    'restaurant_id': unrated_restaurants,\n",
        "    'predicted_rating': y_pred_user_clipped\n",
        "})\n",
        "top_predictions = predictions_df.sort_values(by='predicted_rating', ascending=False).head(10)\n",
        "print(top_predictions)"
      ],
      "metadata": {
        "colab": {
          "base_uri": "https://localhost:8080/"
        },
        "id": "pI2GNhvlRRtD",
        "outputId": "4817bd58-a076-4b8b-b100-e61e91ae8979"
      },
      "execution_count": 54,
      "outputs": [
        {
          "output_type": "stream",
          "name": "stdout",
          "text": [
            "                               restaurant_id  predicted_rating\n",
            "0      0x4065fa5574817035:0x55c809f95c507191               5.0\n",
            "11290  0x89c25df5fb899e65:0x806e9d7c700fb016               5.0\n",
            "11276  0x89c25df198d23ea1:0x8937806281c5bc4a               5.0\n",
            "11277  0x89c25df27353c7d3:0x5a17c12a4cf6ea57               5.0\n",
            "11278  0x89c25df3ab462e9d:0xa857aaab401b289b               5.0\n",
            "11279  0x89c25df40dc00101:0xc4cb3317ac05d046               5.0\n",
            "11280  0x89c25df4368aab87:0x99d04f24d71b2cc9               5.0\n",
            "11281  0x89c25df436af0d73:0x526b67122b725eb4               5.0\n",
            "11282  0x89c25df437c465e5:0x9847a3666f6eb234               5.0\n",
            "11283  0x89c25df437e4960b:0x4840493ef9cacac9               5.0\n"
          ]
        }
      ]
    }
  ]
}